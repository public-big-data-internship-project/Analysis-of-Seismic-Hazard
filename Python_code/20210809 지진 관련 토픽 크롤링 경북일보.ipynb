{
 "cells": [
  {
   "cell_type": "markdown",
   "id": "2590d566",
   "metadata": {},
   "source": [
    "## 경북일보  \n",
    "약 천개 기사 크롤링"
   ]
  },
  {
   "cell_type": "code",
   "execution_count": null,
   "id": "0d48dcbe",
   "metadata": {},
   "outputs": [],
   "source": [
    "from bs4 import BeautifulSoup\n",
    "import requests\n",
    "import re\n",
    "import time\n",
    "import random\n",
    "\n",
    "'''\n",
    "url 읽어오기\n",
    "'''\n",
    "def get_html(url):\n",
    "    _html = \"\"\n",
    "    resp = requests.get(url)\n",
    "    if resp.status_code == 200:\n",
    "        _html = resp.text\n",
    "\n",
    "    return _html\n",
    "\n",
    "kyongbuk_urls=[]\n",
    "kyongbuk_text=[]\n",
    "\n",
    "search=input()    \n",
    "u = \"https://www.kyongbuk.co.kr/engine_yonhap/search.php?div_code=&cust_div_code=&sfield=&article_type=&others_cont_type=&period=all&from_date=&to_date=&searchword=\"+search+\"&picktab=article&others_cont_type=&sort=date\"\n",
    "\n",
    "cn=get_html(u)\n",
    "sp = BeautifulSoup(cn, 'lxml', from_encoding='utf-8')\n",
    "nt=sp.find(\"div\", {\"total-list-row\"}).find_all(\"div\", {\"class\":\"contents\"})\n",
    "nn=sp.find('h3').text\n",
    "\n",
    "news_num=(nn[nn.find('과')+1:nn.find('건')])\n",
    "news_num=news_num.replace(',', '')\n",
    "news_num=int(news_num)\n",
    "check=1\n",
    "\n",
    "print('*** crolling start ***')\n",
    "\n",
    "for x in range(0, int(news_num/10)+1):    #int(news_num/10)+1\n",
    "    url = \"https://www.kyongbuk.co.kr/engine_yonhap/search.php?page=\"+str(x+1)+\"&total=6707&picktab=article&searchcont=article&others_cont_type=&div_code=&cust_div_code=&sfield=&article_type=&period=all&from_date=&to_date=&sort=date&searchword=\"+search+\"&orgsearchword=\"\n",
    "    print(url)\n",
    "    collection_news=get_html(url)\n",
    "    soup = BeautifulSoup(collection_news, 'html.parser')\n",
    "    news_table=soup.find(\"div\", {\"total-list-row\"}).find_all(\"div\", {\"class\":\"title\"})\n",
    "    print(news_table)\n",
    "\n",
    "    for index in news_table:     \n",
    "        try:\n",
    "            info_news=index.find(\"a\")\n",
    "            _url=info_news[\"href\"]\n",
    "            print(\"new\", info_news)\n",
    "            print(\"url\", _url)    \n",
    "            kyongbuk_urls.append(_url)\n",
    "\n",
    "            _select_news=get_html(_url)\n",
    "            select_news=BeautifulSoup(_select_news, 'html.parser')\n",
    "            _news=select_news.find(\"div\", {\"class\":\"user-content\"}).find_all(\"div\", {\"id\":\"article-view-content-div\"})\n",
    "\n",
    "            for item in _news:\n",
    "                _text=item.text.split(\".\")\n",
    "                _text =str(_text)\n",
    "                _text = re.sub('[0-9a-zA-Z\"\"]', '', _text)\n",
    "                _text = re.sub('[!@\"#$%&\\'()*+,-./:;<=>?[\\]^_`{|}~“”·▶◆]', '', _text) \n",
    "                kyongbuk_text.append(_text)\n",
    "\n",
    "            time.sleep(random.uniform(0.5, 2))\n",
    "            if check==news_num:\n",
    "                print(\"xx\")\n",
    "                break\n",
    "\n",
    "            print(\"ok\", check, x)\n",
    "            check+=1\n",
    "\n",
    "        except AttributeError:\n",
    "            pass\n",
    "    "
   ]
  },
  {
   "cell_type": "code",
   "execution_count": null,
   "id": "08018dd2",
   "metadata": {},
   "outputs": [],
   "source": [
    "import pandas as pd\n",
    "dftext=pd.DataFrame(kyongbuk_text)\n",
    "dftext.to_excel('./경북일보.xlsx', header=False, index=False)"
   ]
  },
  {
   "cell_type": "code",
   "execution_count": null,
   "id": "de9f8e06",
   "metadata": {},
   "outputs": [],
   "source": [
    "dfurl=pd.DataFrame(kyongbuk_urls)\n",
    "dfurl.to_excel('./경북일보urls.xlsx', header=False, index=False)"
   ]
  }
 ],
 "metadata": {
  "kernelspec": {
   "display_name": "Python 3",
   "language": "python",
   "name": "python3"
  },
  "language_info": {
   "codemirror_mode": {
    "name": "ipython",
    "version": 3
   },
   "file_extension": ".py",
   "mimetype": "text/x-python",
   "name": "python",
   "nbconvert_exporter": "python",
   "pygments_lexer": "ipython3",
   "version": "3.8.8"
  }
 },
 "nbformat": 4,
 "nbformat_minor": 5
}
