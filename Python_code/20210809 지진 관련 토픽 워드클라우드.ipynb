{
 "cells": [
  {
   "cell_type": "markdown",
   "id": "624816ed",
   "metadata": {},
   "source": [
    "### 지진 관련 토픽 워드클라우드\n",
    "<br>\n",
    "\n",
    "*지진 관련 뉴스 기사 크롤링  \n",
    "*불용어사전 직접 생성  \n",
    "*워드클라우드를 통해 키워드 및 빈도수 확인\n"
   ]
  },
  {
   "cell_type": "code",
   "execution_count": null,
   "id": "01ac10cd",
   "metadata": {},
   "outputs": [],
   "source": [
    "from PIL import Image\n",
    "from wordcloud import WordCloud, ImageColorGenerator\n",
    "import numpy as np\n",
    "import matplotlib.pyplot as plt\n",
    "from nltk.corpus import stopwords \n",
    "from nltk.tokenize import word_tokenize \n",
    "import re\n",
    "import pandas as pd\n",
    "from collections import Counter"
   ]
  },
  {
   "cell_type": "code",
   "execution_count": null,
   "id": "5b75363e",
   "metadata": {},
   "outputs": [],
   "source": [
    "f = open('./경북일보.txt')  \n",
    "text=''\n",
    "for line in f.readlines():\n",
    "    text = text + ' ' + line\n",
    "f.close()"
   ]
  },
  {
   "cell_type": "code",
   "execution_count": null,
   "id": "06e10ef5",
   "metadata": {},
   "outputs": [],
   "source": [
    "f = open('./abc.txt')  \n",
    "text=''\n",
    "for line in f.readlines():\n",
    "    line = re.sub('[0-9a-zA-Z\"\"]', '', line)\n",
    "    line = re.sub('[!@\"#$%&\\'()*+,-./:;<=>?[\\]^_`{|}~“”·▶◆]', '', line)     \n",
    "    text = text + ' ' + line\n",
    "f.close()"
   ]
  },
  {
   "cell_type": "code",
   "execution_count": null,
   "id": "79aae749",
   "metadata": {},
   "outputs": [],
   "source": [
    "word_tokens = word_tokenize(text) #형태소별로나누기\n",
    "words = []\n",
    "for w in word_tokens:\n",
    "    if len(w) > 1 :\n",
    "        w = ''.join(filter(str.isalnum, w)) #제거 못한 특수문자 다시제거\n",
    "        words.append(w)\n",
    "        print(w)"
   ]
  },
  {
   "cell_type": "code",
   "execution_count": null,
   "id": "bba87a4a",
   "metadata": {},
   "outputs": [],
   "source": [
    "stop_words = []  #불용어처리\n",
    "f = open(\"./stopwords.txt\", 'r', encoding=\"utf-8\")\n",
    "for word in f.readlines():\n",
    "    word = word.strip('\\n')\n",
    "    stop_words.append(word)\n",
    "f.close()"
   ]
  },
  {
   "cell_type": "code",
   "execution_count": null,
   "id": "8f5f67c4",
   "metadata": {},
   "outputs": [],
   "source": [
    "result = [] \n",
    "for w in words: \n",
    "    if w not in stop_words: \n",
    "        print(w)\n",
    "        result.append(w) "
   ]
  },
  {
   "cell_type": "code",
   "execution_count": null,
   "id": "ec72060c",
   "metadata": {},
   "outputs": [],
   "source": [
    "count_word=Counter(result)\n",
    "dic_count=dict(count_word)\n",
    "df = pd.DataFrame(dic_count.items())\n",
    "df.sort_values(by=1,ascending=False)\n",
    "df.to_excel('./단어빈도.xlsx', header=False, index=False)  #단어빈도수 확인"
   ]
  },
  {
   "cell_type": "code",
   "execution_count": null,
   "id": "fa616b32",
   "metadata": {},
   "outputs": [],
   "source": [
    "wd_text = ''\n",
    "for t in result:\n",
    "    wd_text = wd_text + ' ' + t\n",
    "    \n",
    "    \n",
    "mask = np.array(Image.open('./image.jpg'))\n",
    "wordcloud = WordCloud(font_path='C:\\Windows\\Fonts/H2GTRM.ttf', background_color=\"white\", mask=mask).generate(wd_text) \n",
    "plt.figure(figsize=(22,22))\n",
    "plt.imshow(wordcloud) \n",
    "plt.axis('off') \n",
    "plt.show() "
   ]
  }
 ],
 "metadata": {
  "kernelspec": {
   "display_name": "Python 3",
   "language": "python",
   "name": "python3"
  },
  "language_info": {
   "codemirror_mode": {
    "name": "ipython",
    "version": 3
   },
   "file_extension": ".py",
   "mimetype": "text/x-python",
   "name": "python",
   "nbconvert_exporter": "python",
   "pygments_lexer": "ipython3",
   "version": "3.8.8"
  }
 },
 "nbformat": 4,
 "nbformat_minor": 5
}
